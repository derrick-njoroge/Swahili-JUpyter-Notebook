{
 "cells": [
  {
   "cell_type": "markdown",
   "id": "96fc3b1d",
   "metadata": {},
   "source": [
    "# Scraping data"
   ]
  },
  {
   "cell_type": "code",
   "execution_count": 1,
   "id": "cf2fc0be",
   "metadata": {},
   "outputs": [
    {
     "name": "stdout",
     "output_type": "stream",
     "text": [
      "Collecting snscrape\n",
      "  Downloading snscrape-0.6.2.20230320-py3-none-any.whl (71 kB)\n",
      "     -------------------------------------- 71.8/71.8 kB 303.3 kB/s eta 0:00:00\n",
      "Requirement already satisfied: lxml in e:\\work\\anakonda\\lib\\site-packages (from snscrape) (4.9.1)\n",
      "Requirement already satisfied: beautifulsoup4 in e:\\work\\anakonda\\lib\\site-packages (from snscrape) (4.11.1)\n",
      "Requirement already satisfied: filelock in e:\\work\\anakonda\\lib\\site-packages (from snscrape) (3.6.0)\n",
      "Requirement already satisfied: requests[socks] in e:\\work\\anakonda\\lib\\site-packages (from snscrape) (2.28.1)\n",
      "Requirement already satisfied: soupsieve>1.2 in e:\\work\\anakonda\\lib\\site-packages (from beautifulsoup4->snscrape) (2.3.1)\n",
      "Requirement already satisfied: urllib3<1.27,>=1.21.1 in e:\\work\\anakonda\\lib\\site-packages (from requests[socks]->snscrape) (1.26.11)\n",
      "Requirement already satisfied: certifi>=2017.4.17 in e:\\work\\anakonda\\lib\\site-packages (from requests[socks]->snscrape) (2022.9.14)\n",
      "Requirement already satisfied: charset-normalizer<3,>=2 in e:\\work\\anakonda\\lib\\site-packages (from requests[socks]->snscrape) (2.0.4)\n",
      "Requirement already satisfied: idna<4,>=2.5 in e:\\work\\anakonda\\lib\\site-packages (from requests[socks]->snscrape) (3.3)\n",
      "Requirement already satisfied: PySocks!=1.5.7,>=1.5.6 in e:\\work\\anakonda\\lib\\site-packages (from requests[socks]->snscrape) (1.7.1)\n",
      "Installing collected packages: snscrape\n",
      "Successfully installed snscrape-0.6.2.20230320\n",
      "Note: you may need to restart the kernel to use updated packages.\n"
     ]
    }
   ],
   "source": [
    "pip install snscrape"
   ]
  },
  {
   "cell_type": "code",
   "execution_count": 25,
   "id": "cad75dbf",
   "metadata": {},
   "outputs": [
    {
     "name": "stdout",
     "output_type": "stream",
     "text": [
      "                              tweet sentiment\n",
      "0        Lorem ipsum dolor sit amet  positive\n",
      "1       Consectetur adipiscing elit  positive\n",
      "2  Sed do eiusmod tempor incididunt   neutral\n",
      "3  Ut labore et dolore magna aliqua  negative\n"
     ]
    }
   ],
   "source": [
    "import pandas as pd\n",
    "\n",
    "# create a list of dictionaries with the data you scraped\n",
    "data = [{'tweet': 'Lorem ipsum dolor sit amet', 'sentiment': 'positive'},\n",
    "        {'tweet': 'Consectetur adipiscing elit', 'sentiment': 'positive'},\n",
    "        {'tweet': 'Sed do eiusmod tempor incididunt', 'sentiment': 'neutral'},\n",
    "        {'tweet': 'Ut labore et dolore magna aliqua', 'sentiment': 'negative'}]\n",
    "\n",
    "# create a DataFrame from the list of dictionaries\n",
    "tweet_df = pd.DataFrame(data)\n",
    "\n",
    "# print the DataFrame\n",
    "print(tweet_df)\n"
   ]
  },
  {
   "cell_type": "code",
   "execution_count": 26,
   "id": "94d0a9dd",
   "metadata": {},
   "outputs": [],
   "source": [
    "# creating Data frame \n",
    "tweet_df = pd.DataFrame({'tweet':tweets})"
   ]
  },
  {
   "cell_type": "code",
   "execution_count": 18,
   "id": "488199b6",
   "metadata": {},
   "outputs": [],
   "source": [
    "import pandas as pd\n",
    "from sklearn.model_selection import train_test_split\n",
    "from sklearn.feature_extraction.text import CountVectorizer\n",
    "from sklearn.naive_bayes import MultinomialNB\n",
    "from sklearn.metrics import accuracy_score"
   ]
  },
  {
   "cell_type": "code",
   "execution_count": 11,
   "id": "0ee0e741",
   "metadata": {},
   "outputs": [
    {
     "name": "stdout",
     "output_type": "stream",
     "text": [
      "                   content                    clean_tweet\n",
      "0  This is a sample tweet.  [This, is, a, sample, tweet.]\n",
      "1      Here's another one.        [Here's, another, one.]\n"
     ]
    }
   ],
   "source": [
    "import pandas as pd\n",
    "\n",
    "# create a new data frame with a 'content' column\n",
    "tweet_df = pd.DataFrame({'content': [\"This is a sample tweet.\", \"Here's another one.\"]})\n",
    "\n",
    "# tokenize the tweets\n",
    "tokenized_tweet = [tweet.split() for tweet in tweet_df['content']]\n",
    "\n",
    "# store the tokenized tweets in a new column of the data frame\n",
    "tweet_df['clean_tweet'] = tokenized_tweet\n",
    "\n",
    "# print the data frame\n",
    "print(tweet_df)\n"
   ]
  },
  {
   "cell_type": "code",
   "execution_count": 24,
   "id": "3c357c12",
   "metadata": {},
   "outputs": [
    {
     "name": "stderr",
     "output_type": "stream",
     "text": [
      "C:\\Users\\Hp 840 G5\\AppData\\Local\\Temp\\ipykernel_3804\\2067480850.py:5: DeprecatedFeatureWarning: content is deprecated, use rawContent instead\n",
      "  data =[tweet.date, tweet.id, tweet.content, tweet.user.username,]\n"
     ]
    }
   ],
   "source": [
    "scraper = sntwitter.TwitterSearchScraper(\"#JusticeforMwathi\")\n",
    "\n",
    "tweets = []\n",
    "for i, tweet in enumerate( scraper.get_items() ):\n",
    "  data =[tweet.date, tweet.id, tweet.content, tweet.user.username,]\n",
    "  tweets.append(data)\n",
    "  if i > 50:\n",
    "    break"
   ]
  },
  {
   "cell_type": "code",
   "execution_count": 25,
   "id": "b76a4f1e",
   "metadata": {},
   "outputs": [
    {
     "data": {
      "text/html": [
       "<div>\n",
       "<style scoped>\n",
       "    .dataframe tbody tr th:only-of-type {\n",
       "        vertical-align: middle;\n",
       "    }\n",
       "\n",
       "    .dataframe tbody tr th {\n",
       "        vertical-align: top;\n",
       "    }\n",
       "\n",
       "    .dataframe thead th {\n",
       "        text-align: right;\n",
       "    }\n",
       "</style>\n",
       "<table border=\"1\" class=\"dataframe\">\n",
       "  <thead>\n",
       "    <tr style=\"text-align: right;\">\n",
       "      <th></th>\n",
       "      <th>date</th>\n",
       "      <th>id</th>\n",
       "      <th>content</th>\n",
       "      <th>username</th>\n",
       "    </tr>\n",
       "  </thead>\n",
       "  <tbody>\n",
       "    <tr>\n",
       "      <th>0</th>\n",
       "      <td>2023-03-22 12:46:27+00:00</td>\n",
       "      <td>1638522527587741696</td>\n",
       "      <td>This is how a REVOLUTION is born. I don't know...</td>\n",
       "      <td>MwihakiMukuna</td>\n",
       "    </tr>\n",
       "    <tr>\n",
       "      <th>1</th>\n",
       "      <td>2023-03-21 20:27:38+00:00</td>\n",
       "      <td>1638276199100104704</td>\n",
       "      <td>Samidoh dedicates emotional song to late nephe...</td>\n",
       "      <td>GikuyuBulletin</td>\n",
       "    </tr>\n",
       "    <tr>\n",
       "      <th>2</th>\n",
       "      <td>2023-03-11 08:11:21+00:00</td>\n",
       "      <td>1634467029041152003</td>\n",
       "      <td>We @2facekimani are here to give you the value...</td>\n",
       "      <td>2facekimani</td>\n",
       "    </tr>\n",
       "    <tr>\n",
       "      <th>3</th>\n",
       "      <td>2023-03-08 09:19:25+00:00</td>\n",
       "      <td>1633396997859295234</td>\n",
       "      <td>This young boy went to secure the bag only to ...</td>\n",
       "      <td>ShikoEssie2</td>\n",
       "    </tr>\n",
       "    <tr>\n",
       "      <th>4</th>\n",
       "      <td>2023-03-08 08:47:31+00:00</td>\n",
       "      <td>1633388966312308736</td>\n",
       "      <td>Good👏🏾 #JusticeForMwathi</td>\n",
       "      <td>njambifever</td>\n",
       "    </tr>\n",
       "    <tr>\n",
       "      <th>5</th>\n",
       "      <td>2023-03-08 05:41:22+00:00</td>\n",
       "      <td>1633342122962157569</td>\n",
       "      <td>Dj Fatxo\\n#JusticeForMwathi\\nDCI HQ\\nRigarthre...</td>\n",
       "      <td>ShikoEssie2</td>\n",
       "    </tr>\n",
       "    <tr>\n",
       "      <th>6</th>\n",
       "      <td>2023-03-08 03:40:36+00:00</td>\n",
       "      <td>1633311730502717442</td>\n",
       "      <td>#justiceformwathi</td>\n",
       "      <td>gikonyo_shiro</td>\n",
       "    </tr>\n",
       "    <tr>\n",
       "      <th>7</th>\n",
       "      <td>2023-03-07 18:46:45+00:00</td>\n",
       "      <td>1633177380163395587</td>\n",
       "      <td>#justiceformwathi</td>\n",
       "      <td>mikewilll254</td>\n",
       "    </tr>\n",
       "  </tbody>\n",
       "</table>\n",
       "</div>"
      ],
      "text/plain": [
       "                       date                   id  \\\n",
       "0 2023-03-22 12:46:27+00:00  1638522527587741696   \n",
       "1 2023-03-21 20:27:38+00:00  1638276199100104704   \n",
       "2 2023-03-11 08:11:21+00:00  1634467029041152003   \n",
       "3 2023-03-08 09:19:25+00:00  1633396997859295234   \n",
       "4 2023-03-08 08:47:31+00:00  1633388966312308736   \n",
       "5 2023-03-08 05:41:22+00:00  1633342122962157569   \n",
       "6 2023-03-08 03:40:36+00:00  1633311730502717442   \n",
       "7 2023-03-07 18:46:45+00:00  1633177380163395587   \n",
       "\n",
       "                                             content        username  \n",
       "0  This is how a REVOLUTION is born. I don't know...   MwihakiMukuna  \n",
       "1  Samidoh dedicates emotional song to late nephe...  GikuyuBulletin  \n",
       "2  We @2facekimani are here to give you the value...     2facekimani  \n",
       "3  This young boy went to secure the bag only to ...     ShikoEssie2  \n",
       "4                           Good👏🏾 #JusticeForMwathi     njambifever  \n",
       "5  Dj Fatxo\\n#JusticeForMwathi\\nDCI HQ\\nRigarthre...     ShikoEssie2  \n",
       "6                                  #justiceformwathi   gikonyo_shiro  \n",
       "7                                  #justiceformwathi    mikewilll254  "
      ]
     },
     "execution_count": 25,
     "metadata": {},
     "output_type": "execute_result"
    }
   ],
   "source": [
    "tweet_df = pd.DataFrame(tweets, columns = ['date', 'id', 'content', 'username',])\n",
    "tweet_df"
   ]
  },
  {
   "cell_type": "code",
   "execution_count": 26,
   "id": "0be2a91c",
   "metadata": {},
   "outputs": [
    {
     "data": {
      "text/html": [
       "<div>\n",
       "<style scoped>\n",
       "    .dataframe tbody tr th:only-of-type {\n",
       "        vertical-align: middle;\n",
       "    }\n",
       "\n",
       "    .dataframe tbody tr th {\n",
       "        vertical-align: top;\n",
       "    }\n",
       "\n",
       "    .dataframe thead th {\n",
       "        text-align: right;\n",
       "    }\n",
       "</style>\n",
       "<table border=\"1\" class=\"dataframe\">\n",
       "  <thead>\n",
       "    <tr style=\"text-align: right;\">\n",
       "      <th></th>\n",
       "      <th>date</th>\n",
       "      <th>id</th>\n",
       "      <th>content</th>\n",
       "      <th>username</th>\n",
       "    </tr>\n",
       "  </thead>\n",
       "  <tbody>\n",
       "    <tr>\n",
       "      <th>0</th>\n",
       "      <td>2023-03-22 12:46:27+00:00</td>\n",
       "      <td>1638522527587741696</td>\n",
       "      <td>This is how a REVOLUTION is born. I don't know...</td>\n",
       "      <td>MwihakiMukuna</td>\n",
       "    </tr>\n",
       "    <tr>\n",
       "      <th>1</th>\n",
       "      <td>2023-03-21 20:27:38+00:00</td>\n",
       "      <td>1638276199100104704</td>\n",
       "      <td>Samidoh dedicates emotional song to late nephe...</td>\n",
       "      <td>GikuyuBulletin</td>\n",
       "    </tr>\n",
       "    <tr>\n",
       "      <th>2</th>\n",
       "      <td>2023-03-11 08:11:21+00:00</td>\n",
       "      <td>1634467029041152003</td>\n",
       "      <td>We @2facekimani are here to give you the value...</td>\n",
       "      <td>2facekimani</td>\n",
       "    </tr>\n",
       "    <tr>\n",
       "      <th>3</th>\n",
       "      <td>2023-03-08 09:19:25+00:00</td>\n",
       "      <td>1633396997859295234</td>\n",
       "      <td>This young boy went to secure the bag only to ...</td>\n",
       "      <td>ShikoEssie2</td>\n",
       "    </tr>\n",
       "    <tr>\n",
       "      <th>4</th>\n",
       "      <td>2023-03-08 08:47:31+00:00</td>\n",
       "      <td>1633388966312308736</td>\n",
       "      <td>Good👏🏾 #JusticeForMwathi</td>\n",
       "      <td>njambifever</td>\n",
       "    </tr>\n",
       "    <tr>\n",
       "      <th>5</th>\n",
       "      <td>2023-03-08 05:41:22+00:00</td>\n",
       "      <td>1633342122962157569</td>\n",
       "      <td>Dj Fatxo\\n#JusticeForMwathi\\nDCI HQ\\nRigarthre...</td>\n",
       "      <td>ShikoEssie2</td>\n",
       "    </tr>\n",
       "    <tr>\n",
       "      <th>6</th>\n",
       "      <td>2023-03-08 03:40:36+00:00</td>\n",
       "      <td>1633311730502717442</td>\n",
       "      <td>#justiceformwathi</td>\n",
       "      <td>gikonyo_shiro</td>\n",
       "    </tr>\n",
       "    <tr>\n",
       "      <th>7</th>\n",
       "      <td>2023-03-07 18:46:45+00:00</td>\n",
       "      <td>1633177380163395587</td>\n",
       "      <td>#justiceformwathi</td>\n",
       "      <td>mikewilll254</td>\n",
       "    </tr>\n",
       "  </tbody>\n",
       "</table>\n",
       "</div>"
      ],
      "text/plain": [
       "                       date                   id  \\\n",
       "0 2023-03-22 12:46:27+00:00  1638522527587741696   \n",
       "1 2023-03-21 20:27:38+00:00  1638276199100104704   \n",
       "2 2023-03-11 08:11:21+00:00  1634467029041152003   \n",
       "3 2023-03-08 09:19:25+00:00  1633396997859295234   \n",
       "4 2023-03-08 08:47:31+00:00  1633388966312308736   \n",
       "5 2023-03-08 05:41:22+00:00  1633342122962157569   \n",
       "6 2023-03-08 03:40:36+00:00  1633311730502717442   \n",
       "7 2023-03-07 18:46:45+00:00  1633177380163395587   \n",
       "\n",
       "                                             content        username  \n",
       "0  This is how a REVOLUTION is born. I don't know...   MwihakiMukuna  \n",
       "1  Samidoh dedicates emotional song to late nephe...  GikuyuBulletin  \n",
       "2  We @2facekimani are here to give you the value...     2facekimani  \n",
       "3  This young boy went to secure the bag only to ...     ShikoEssie2  \n",
       "4                           Good👏🏾 #JusticeForMwathi     njambifever  \n",
       "5  Dj Fatxo\\n#JusticeForMwathi\\nDCI HQ\\nRigarthre...     ShikoEssie2  \n",
       "6                                  #justiceformwathi   gikonyo_shiro  \n",
       "7                                  #justiceformwathi    mikewilll254  "
      ]
     },
     "execution_count": 26,
     "metadata": {},
     "output_type": "execute_result"
    }
   ],
   "source": [
    "#Save the data in a csv file\n",
    "tweet_df.to_csv(\"JusticeforMwathi.csv\", index = False)\n",
    "tweet_df"
   ]
  },
  {
   "cell_type": "markdown",
   "id": "babed6e3",
   "metadata": {},
   "source": [
    "# Cleaning the data"
   ]
  },
  {
   "cell_type": "code",
   "execution_count": 27,
   "id": "f55bde2b",
   "metadata": {},
   "outputs": [
    {
     "data": {
      "text/html": [
       "<div>\n",
       "<style scoped>\n",
       "    .dataframe tbody tr th:only-of-type {\n",
       "        vertical-align: middle;\n",
       "    }\n",
       "\n",
       "    .dataframe tbody tr th {\n",
       "        vertical-align: top;\n",
       "    }\n",
       "\n",
       "    .dataframe thead th {\n",
       "        text-align: right;\n",
       "    }\n",
       "</style>\n",
       "<table border=\"1\" class=\"dataframe\">\n",
       "  <thead>\n",
       "    <tr style=\"text-align: right;\">\n",
       "      <th></th>\n",
       "      <th>date</th>\n",
       "      <th>id</th>\n",
       "      <th>content</th>\n",
       "      <th>username</th>\n",
       "    </tr>\n",
       "  </thead>\n",
       "  <tbody>\n",
       "    <tr>\n",
       "      <th>0</th>\n",
       "      <td>2023-03-22 12:46:27+00:00</td>\n",
       "      <td>1638522527587741696</td>\n",
       "      <td>this is how a revolution is born. i don't know...</td>\n",
       "      <td>MwihakiMukuna</td>\n",
       "    </tr>\n",
       "    <tr>\n",
       "      <th>1</th>\n",
       "      <td>2023-03-21 20:27:38+00:00</td>\n",
       "      <td>1638276199100104704</td>\n",
       "      <td>samidoh dedicates emotional song to late nephe...</td>\n",
       "      <td>GikuyuBulletin</td>\n",
       "    </tr>\n",
       "    <tr>\n",
       "      <th>2</th>\n",
       "      <td>2023-03-11 08:11:21+00:00</td>\n",
       "      <td>1634467029041152003</td>\n",
       "      <td>we @2facekimani are here to give you the value...</td>\n",
       "      <td>2facekimani</td>\n",
       "    </tr>\n",
       "    <tr>\n",
       "      <th>3</th>\n",
       "      <td>2023-03-08 09:19:25+00:00</td>\n",
       "      <td>1633396997859295234</td>\n",
       "      <td>this young boy went to secure the bag only to ...</td>\n",
       "      <td>ShikoEssie2</td>\n",
       "    </tr>\n",
       "    <tr>\n",
       "      <th>4</th>\n",
       "      <td>2023-03-08 08:47:31+00:00</td>\n",
       "      <td>1633388966312308736</td>\n",
       "      <td>good👏🏾 #justiceformwathi</td>\n",
       "      <td>njambifever</td>\n",
       "    </tr>\n",
       "    <tr>\n",
       "      <th>5</th>\n",
       "      <td>2023-03-08 05:41:22+00:00</td>\n",
       "      <td>1633342122962157569</td>\n",
       "      <td>dj fatxo\\n#justiceformwathi\\ndci hq\\nrigarthre...</td>\n",
       "      <td>ShikoEssie2</td>\n",
       "    </tr>\n",
       "    <tr>\n",
       "      <th>6</th>\n",
       "      <td>2023-03-08 03:40:36+00:00</td>\n",
       "      <td>1633311730502717442</td>\n",
       "      <td>#justiceformwathi</td>\n",
       "      <td>gikonyo_shiro</td>\n",
       "    </tr>\n",
       "    <tr>\n",
       "      <th>7</th>\n",
       "      <td>2023-03-07 18:46:45+00:00</td>\n",
       "      <td>1633177380163395587</td>\n",
       "      <td>#justiceformwathi</td>\n",
       "      <td>mikewilll254</td>\n",
       "    </tr>\n",
       "  </tbody>\n",
       "</table>\n",
       "</div>"
      ],
      "text/plain": [
       "                       date                   id  \\\n",
       "0 2023-03-22 12:46:27+00:00  1638522527587741696   \n",
       "1 2023-03-21 20:27:38+00:00  1638276199100104704   \n",
       "2 2023-03-11 08:11:21+00:00  1634467029041152003   \n",
       "3 2023-03-08 09:19:25+00:00  1633396997859295234   \n",
       "4 2023-03-08 08:47:31+00:00  1633388966312308736   \n",
       "5 2023-03-08 05:41:22+00:00  1633342122962157569   \n",
       "6 2023-03-08 03:40:36+00:00  1633311730502717442   \n",
       "7 2023-03-07 18:46:45+00:00  1633177380163395587   \n",
       "\n",
       "                                             content        username  \n",
       "0  this is how a revolution is born. i don't know...   MwihakiMukuna  \n",
       "1  samidoh dedicates emotional song to late nephe...  GikuyuBulletin  \n",
       "2  we @2facekimani are here to give you the value...     2facekimani  \n",
       "3  this young boy went to secure the bag only to ...     ShikoEssie2  \n",
       "4                           good👏🏾 #justiceformwathi     njambifever  \n",
       "5  dj fatxo\\n#justiceformwathi\\ndci hq\\nrigarthre...     ShikoEssie2  \n",
       "6                                  #justiceformwathi   gikonyo_shiro  \n",
       "7                                  #justiceformwathi    mikewilll254  "
      ]
     },
     "execution_count": 27,
     "metadata": {},
     "output_type": "execute_result"
    }
   ],
   "source": [
    "#Lower case conversion\n",
    "tweet_df['content'] = tweet_df['content'].str.lower()\n",
    "tweet_df"
   ]
  },
  {
   "cell_type": "code",
   "execution_count": 28,
   "id": "6d5b4288",
   "metadata": {},
   "outputs": [
    {
     "name": "stdout",
     "output_type": "stream",
     "text": [
      "we @2facekimani are here to give you the value of your money.our products suits are unique to fit your stardand.we are located @gikomba opposite co.op https://t.co/x8vtnxlc4s us on 0722698212\n",
      "#terencecreative\n",
      "#supermetro\n",
      "#justiceformwathi\n",
      "#musculinitysartuday. https://t.co/6svxl7zg5a\n"
     ]
    }
   ],
   "source": [
    "tweet = tweet_df['content'][2]\n",
    "print(tweet)"
   ]
  },
  {
   "cell_type": "code",
   "execution_count": 29,
   "id": "c3e32f22",
   "metadata": {},
   "outputs": [
    {
     "name": "stderr",
     "output_type": "stream",
     "text": [
      "C:\\Users\\Hp 840 G5\\AppData\\Local\\Temp\\ipykernel_3804\\2253038890.py:2: FutureWarning: The default value of regex will change from True to False in a future version.\n",
      "  tweet_df['content'] = tweet_df['content'].str.replace(\"[^a-zA-Z#]\", \" \")\n",
      "C:\\Users\\Hp 840 G5\\AppData\\Local\\Temp\\ipykernel_3804\\2253038890.py:5: FutureWarning: The default value of regex will change from True to False in a future version.\n",
      "  tweet_df['content'] = tweet_df['content'].str.replace(r'\\W',\" \")\n"
     ]
    }
   ],
   "source": [
    "# remove special characters, numbers and punctuations\n",
    "tweet_df['content'] = tweet_df['content'].str.replace(\"[^a-zA-Z#]\", \" \")\n",
    "#Removing unwanted characters\n",
    "for column in tweet_df.columns:\n",
    "    tweet_df['content'] = tweet_df['content'].str.replace(r'\\W',\" \")"
   ]
  },
  {
   "cell_type": "code",
   "execution_count": 30,
   "id": "6f18ae57",
   "metadata": {},
   "outputs": [
    {
     "data": {
      "text/html": [
       "<div>\n",
       "<style scoped>\n",
       "    .dataframe tbody tr th:only-of-type {\n",
       "        vertical-align: middle;\n",
       "    }\n",
       "\n",
       "    .dataframe tbody tr th {\n",
       "        vertical-align: top;\n",
       "    }\n",
       "\n",
       "    .dataframe thead th {\n",
       "        text-align: right;\n",
       "    }\n",
       "</style>\n",
       "<table border=\"1\" class=\"dataframe\">\n",
       "  <thead>\n",
       "    <tr style=\"text-align: right;\">\n",
       "      <th></th>\n",
       "      <th>date</th>\n",
       "      <th>id</th>\n",
       "      <th>content</th>\n",
       "      <th>username</th>\n",
       "    </tr>\n",
       "  </thead>\n",
       "  <tbody>\n",
       "    <tr>\n",
       "      <th>0</th>\n",
       "      <td>2023-03-22 12:46:27+00:00</td>\n",
       "      <td>1638522527587741696</td>\n",
       "      <td>this is how a revolution is born  i don t know...</td>\n",
       "      <td>MwihakiMukuna</td>\n",
       "    </tr>\n",
       "    <tr>\n",
       "      <th>1</th>\n",
       "      <td>2023-03-21 20:27:38+00:00</td>\n",
       "      <td>1638276199100104704</td>\n",
       "      <td>samidoh dedicates emotional song to late nephe...</td>\n",
       "      <td>GikuyuBulletin</td>\n",
       "    </tr>\n",
       "    <tr>\n",
       "      <th>2</th>\n",
       "      <td>2023-03-11 08:11:21+00:00</td>\n",
       "      <td>1634467029041152003</td>\n",
       "      <td>we   facekimani are here to give you the value...</td>\n",
       "      <td>2facekimani</td>\n",
       "    </tr>\n",
       "    <tr>\n",
       "      <th>3</th>\n",
       "      <td>2023-03-08 09:19:25+00:00</td>\n",
       "      <td>1633396997859295234</td>\n",
       "      <td>this young boy went to secure the bag only to ...</td>\n",
       "      <td>ShikoEssie2</td>\n",
       "    </tr>\n",
       "    <tr>\n",
       "      <th>4</th>\n",
       "      <td>2023-03-08 08:47:31+00:00</td>\n",
       "      <td>1633388966312308736</td>\n",
       "      <td>good    justiceformwathi</td>\n",
       "      <td>njambifever</td>\n",
       "    </tr>\n",
       "    <tr>\n",
       "      <th>5</th>\n",
       "      <td>2023-03-08 05:41:22+00:00</td>\n",
       "      <td>1633342122962157569</td>\n",
       "      <td>dj fatxo  justiceformwathi dci hq rigarthress ...</td>\n",
       "      <td>ShikoEssie2</td>\n",
       "    </tr>\n",
       "    <tr>\n",
       "      <th>6</th>\n",
       "      <td>2023-03-08 03:40:36+00:00</td>\n",
       "      <td>1633311730502717442</td>\n",
       "      <td>justiceformwathi</td>\n",
       "      <td>gikonyo_shiro</td>\n",
       "    </tr>\n",
       "    <tr>\n",
       "      <th>7</th>\n",
       "      <td>2023-03-07 18:46:45+00:00</td>\n",
       "      <td>1633177380163395587</td>\n",
       "      <td>justiceformwathi</td>\n",
       "      <td>mikewilll254</td>\n",
       "    </tr>\n",
       "  </tbody>\n",
       "</table>\n",
       "</div>"
      ],
      "text/plain": [
       "                       date                   id  \\\n",
       "0 2023-03-22 12:46:27+00:00  1638522527587741696   \n",
       "1 2023-03-21 20:27:38+00:00  1638276199100104704   \n",
       "2 2023-03-11 08:11:21+00:00  1634467029041152003   \n",
       "3 2023-03-08 09:19:25+00:00  1633396997859295234   \n",
       "4 2023-03-08 08:47:31+00:00  1633388966312308736   \n",
       "5 2023-03-08 05:41:22+00:00  1633342122962157569   \n",
       "6 2023-03-08 03:40:36+00:00  1633311730502717442   \n",
       "7 2023-03-07 18:46:45+00:00  1633177380163395587   \n",
       "\n",
       "                                             content        username  \n",
       "0  this is how a revolution is born  i don t know...   MwihakiMukuna  \n",
       "1  samidoh dedicates emotional song to late nephe...  GikuyuBulletin  \n",
       "2  we   facekimani are here to give you the value...     2facekimani  \n",
       "3  this young boy went to secure the bag only to ...     ShikoEssie2  \n",
       "4                           good    justiceformwathi     njambifever  \n",
       "5  dj fatxo  justiceformwathi dci hq rigarthress ...     ShikoEssie2  \n",
       "6                                   justiceformwathi   gikonyo_shiro  \n",
       "7                                   justiceformwathi    mikewilll254  "
      ]
     },
     "execution_count": 30,
     "metadata": {},
     "output_type": "execute_result"
    }
   ],
   "source": [
    "#Cleaned data\n",
    "tweet_df"
   ]
  },
  {
   "cell_type": "markdown",
   "id": "10ce9e9c",
   "metadata": {},
   "source": [
    "# Data tokenization"
   ]
  },
  {
   "cell_type": "code",
   "execution_count": 31,
   "id": "732681b4",
   "metadata": {},
   "outputs": [
    {
     "data": {
      "text/plain": [
       "0    [this, is, how, a, revolution, is, born, i, do...\n",
       "1    [samidoh, dedicates, emotional, song, to, late...\n",
       "2    [we, facekimani, are, here, to, give, you, the...\n",
       "3    [this, young, boy, went, to, secure, the, bag,...\n",
       "4                             [good, justiceformwathi]\n",
       "5    [dj, fatxo, justiceformwathi, dci, hq, rigarth...\n",
       "6                                   [justiceformwathi]\n",
       "7                                   [justiceformwathi]\n",
       "Name: content, dtype: object"
      ]
     },
     "execution_count": 31,
     "metadata": {},
     "output_type": "execute_result"
    }
   ],
   "source": [
    "import re\n",
    "\n",
    "# Tokenize the data\n",
    "tokenized_tweet = tweet_df['content'].apply(lambda x: x.split())\n",
    "tokenized_tweet\n"
   ]
  },
  {
   "cell_type": "code",
   "execution_count": 15,
   "id": "281ba2b0",
   "metadata": {},
   "outputs": [],
   "source": [
    "# combine words into single sentence\n",
    "for i in range(len(tokenized_tweet)):\n",
    "    tokenized_tweet[i] = \"\".join(tokenized_tweet[i])\n",
    "\n",
    "    \n",
    "tweet_df['clean_tweet'] = tokenized_tweet"
   ]
  },
  {
   "cell_type": "code",
   "execution_count": 31,
   "id": "15e92fdb",
   "metadata": {},
   "outputs": [
    {
     "name": "stdout",
     "output_type": "stream",
     "text": [
      "Index(['tweet'], dtype='object')\n"
     ]
    }
   ],
   "source": [
    "print(tweet_df.columns)\n"
   ]
  },
  {
   "cell_type": "code",
   "execution_count": 32,
   "id": "4025ffbf",
   "metadata": {},
   "outputs": [],
   "source": [
    "import re\n",
    "import string\n",
    "\n",
    "def clean_tweet(tweet):\n",
    "    # Remove URLs, RTs, and mentions\n",
    "    tweet = re.sub(r'http\\S+', '', tweet)\n",
    "    tweet = re.sub(r'@\\S+', '', tweet)\n",
    "    tweet = re.sub(r'RT\\S+', '', tweet)\n",
    "    \n",
    "    # Remove punctuation and convert to lowercase\n",
    "    tweet = tweet.translate(str.maketrans('', '', string.punctuation))\n",
    "    tweet = tweet.lower()\n",
    "    \n",
    "    return tweet.strip()\n",
    "\n",
    "# Apply the clean_tweet function to each tweet in the DataFrame\n",
    "tweet_df['clean_tweet'] = tweet_df['tweet'].apply(clean_tweet)\n"
   ]
  },
  {
   "cell_type": "code",
   "execution_count": 35,
   "id": "166e3afe",
   "metadata": {},
   "outputs": [],
   "source": [
    "from textblob import TextBlob\n",
    "\n",
    "tweet_df['sentiment_score'] = tweet_df['clean_tweet'].apply(lambda tweet: TextBlob(tweet).sentiment.polarity)\n"
   ]
  },
  {
   "cell_type": "code",
   "execution_count": 36,
   "id": "d0df95c6",
   "metadata": {},
   "outputs": [],
   "source": [
    "tweet_df.loc[tweet_df.sentiment_score >= 0.5, 'sentiment'] = 'positive'\n",
    "tweet_df.loc[tweet_df.sentiment_score < 0.5, 'sentiment'] = 'negative'\n",
    "tweet_df.loc[tweet_df.sentiment_score == 0.5, 'sentiment'] = 'neutral'\n"
   ]
  },
  {
   "cell_type": "code",
   "execution_count": 72,
   "id": "0b75dc5b",
   "metadata": {},
   "outputs": [],
   "source": [
    "X = tweet_df['clean_tweet']\n",
    "y = tweet_df['sentiment']\n"
   ]
  },
  {
   "cell_type": "code",
   "execution_count": 84,
   "id": "98ceae3a",
   "metadata": {},
   "outputs": [],
   "source": [
    "X_train, X_test, y_train, y_test = train_test_split(X, y, test_size=0.3, random_state=42)\n"
   ]
  },
  {
   "cell_type": "code",
   "execution_count": 42,
   "id": "401da202",
   "metadata": {},
   "outputs": [],
   "source": [
    "from sklearn.naive_bayes import MultinomialNB\n",
    "from sklearn.feature_extraction.text import CountVectorizer"
   ]
  },
  {
   "cell_type": "code",
   "execution_count": 43,
   "id": "52032e46",
   "metadata": {},
   "outputs": [],
   "source": [
    "# Creating a CountVectorizer object to transform the text data into a numerical representation\n",
    "vectorizer = CountVectorizer()"
   ]
  },
  {
   "cell_type": "code",
   "execution_count": 45,
   "id": "d57bfe20",
   "metadata": {},
   "outputs": [
    {
     "data": {
      "text/plain": [
       "CountVectorizer()"
      ]
     },
     "execution_count": 45,
     "metadata": {},
     "output_type": "execute_result"
    }
   ],
   "source": [
    "# Fitting the vectorizer on the training data\n",
    "from sklearn.feature_extraction.text import CountVectorizer\n",
    "vectorizer = CountVectorizer()\n",
    "vectorizer.fit(X_train)"
   ]
  },
  {
   "cell_type": "code",
   "execution_count": 46,
   "id": "61fe6e9e",
   "metadata": {},
   "outputs": [],
   "source": [
    "# Transforming the training and testing data using the vectorizer\n",
    "X_train = vectorizer.transform(X_train)\n",
    "X_test = vectorizer.transform(X_test)"
   ]
  },
  {
   "cell_type": "code",
   "execution_count": 47,
   "id": "66eb7c5f",
   "metadata": {},
   "outputs": [],
   "source": [
    "# Creating a Multinomial Naive Bayes classifier object\n",
    "clf = MultinomialNB()"
   ]
  },
  {
   "cell_type": "code",
   "execution_count": 55,
   "id": "d7ddb19d",
   "metadata": {},
   "outputs": [
    {
     "data": {
      "text/plain": [
       "MultinomialNB()"
      ]
     },
     "execution_count": 55,
     "metadata": {},
     "output_type": "execute_result"
    }
   ],
   "source": [
    "\n",
    "# Training a Naive Bayes classifier\n",
    "clf = MultinomialNB()\n",
    "clf.fit(X_train, y_train)"
   ]
  },
  {
   "cell_type": "code",
   "execution_count": 88,
   "id": "94be7ecd",
   "metadata": {},
   "outputs": [],
   "source": [
    "X_val = vectorizer.transform(val_data)\n"
   ]
  },
  {
   "cell_type": "code",
   "execution_count": 99,
   "id": "daf61e70",
   "metadata": {},
   "outputs": [],
   "source": [
    "from sklearn.feature_extraction.text import CountVectorizer\n",
    "\n",
    "# Define your training data as a list of strings\n",
    "train_data = [\"this is a sample tweet\", \"another sample tweet\", \"a third sample tweet\"]\n",
    "\n",
    "# Create a CountVectorizer object\n",
    "vectorizer = CountVectorizer()\n",
    "\n",
    "# Convert your text data into numerical features\n",
    "X_train = vectorizer.fit_transform(train_data)\n"
   ]
  },
  {
   "cell_type": "code",
   "execution_count": 102,
   "id": "92673f93",
   "metadata": {},
   "outputs": [
    {
     "data": {
      "text/plain": [
       "MultinomialNB()"
      ]
     },
     "execution_count": 102,
     "metadata": {},
     "output_type": "execute_result"
    }
   ],
   "source": [
    "from sklearn.feature_extraction.text import CountVectorizer\n",
    "from sklearn.naive_bayes import MultinomialNB\n",
    "\n",
    "# Define your training data\n",
    "train_data = [\"This is a positive sentence\", \"This is a negative sentence\", \"This is a neutral sentence\"]\n",
    "# Define the labels for your training data\n",
    "y_train = [\"positive\", \"negative\", \"neutral\"]\n",
    "\n",
    "# Convert your text data into numerical features\n",
    "vectorizer = CountVectorizer()\n",
    "X_train = vectorizer.fit_transform(train_data)\n",
    "\n",
    "# Train the Naive Bayes model\n",
    "nb = MultinomialNB()\n",
    "nb.fit(X_train, y_train)\n"
   ]
  },
  {
   "cell_type": "code",
   "execution_count": 107,
   "id": "02e7372c",
   "metadata": {},
   "outputs": [
    {
     "name": "stdout",
     "output_type": "stream",
     "text": [
      "Index(['ID', 'Tweets'], dtype='object')\n"
     ]
    }
   ],
   "source": [
    "print(test_data.columns)\n"
   ]
  },
  {
   "cell_type": "code",
   "execution_count": 109,
   "id": "b205aafb",
   "metadata": {},
   "outputs": [
    {
     "name": "stdout",
     "output_type": "stream",
     "text": [
      "Key \"label\" not found in test_data\n"
     ]
    }
   ],
   "source": [
    "if 'label' in test_data:\n",
    "    y_true = test_data['label']\n",
    "else:\n",
    "    print('Key \"label\" not found in test_data')\n"
   ]
  },
  {
   "cell_type": "code",
   "execution_count": null,
   "id": "544b24a5",
   "metadata": {},
   "outputs": [],
   "source": [
    "import pandas as pd\n",
    "\n",
    "# Load test set\n",
    "test_data = pd.read_csv('test.csv')\n",
    "\n",
    "# Extract true labels from test set\n",
    "y_true = test_data['label']\n"
   ]
  },
  {
   "cell_type": "code",
   "execution_count": null,
   "id": "91aa3df1",
   "metadata": {},
   "outputs": [],
   "source": []
  }
 ],
 "metadata": {
  "kernelspec": {
   "display_name": "Python 3 (ipykernel)",
   "language": "python",
   "name": "python3"
  },
  "language_info": {
   "codemirror_mode": {
    "name": "ipython",
    "version": 3
   },
   "file_extension": ".py",
   "mimetype": "text/x-python",
   "name": "python",
   "nbconvert_exporter": "python",
   "pygments_lexer": "ipython3",
   "version": "3.9.13"
  }
 },
 "nbformat": 4,
 "nbformat_minor": 5
}
